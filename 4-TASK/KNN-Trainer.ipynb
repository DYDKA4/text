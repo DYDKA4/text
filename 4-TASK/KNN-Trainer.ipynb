{
 "cells": [
  {
   "cell_type": "code",
   "execution_count": 20,
   "metadata": {},
   "outputs": [
    {
     "name": "stdout",
     "output_type": "stream",
     "text": [
      "Requirement already satisfied: sklearn in c:\\users\\user\\pycharmprojects\\text\\venv\\lib\\site-packages (0.0.post1)\n"
     ]
    },
    {
     "name": "stderr",
     "output_type": "stream",
     "text": [
      "WARNING: You are using pip version 21.3.1; however, version 22.3.1 is available.\n",
      "You should consider upgrading via the 'C:\\Users\\User\\PycharmProjects\\text\\venv\\Scripts\\python.exe -m pip install --upgrade pip' command.\n"
     ]
    }
   ],
   "source": [
    "!pip3 install sklearn"
   ]
  },
  {
   "cell_type": "code",
   "execution_count": 21,
   "metadata": {},
   "outputs": [],
   "source": [
    "from sklearn.feature_extraction.text import CountVectorizer, TfidfVectorizer"
   ]
  },
  {
   "cell_type": "code",
   "execution_count": 31,
   "metadata": {},
   "outputs": [
    {
     "name": "stdout",
     "output_type": "stream",
     "text": [
      "a\n",
      "['Министр обороны Украины Степан Полторак подписал приказ об увеличении зарплаты военнослужащим в Донбассе. Об этом сообщает ТАСС со ссылкой на военное ведомство. Как отмечается, с 1 мая участники боевых действий в Донбассе будут получать на $190 больше, если они находятся на линии боевого соприкосновения, и на $38 — если они располагаются в других районах проведения операций. Уточняется, что теперь минимальный размер выплаты военному, который служит по контракту и находится в линии соприкосновения в Донбассе, составит около $1 тыс., в других зонах силовой операций — $620. Ранее сообщалось, что действующий президент Украины Петр Порошенко объявил о повышении зарплаты военнослужащим в Донбассе .', '607']\n"
     ]
    }
   ],
   "source": [
    "import json\n",
    "with open(\"dev-dataset-task2022-04.json\", 'rb') as f:\n",
    "    print('a')\n",
    "    data = json.load(f)\n",
    "    print(data[1])"
   ]
  },
  {
   "cell_type": "code",
   "execution_count": 50,
   "metadata": {},
   "outputs": [],
   "source": [
    "import numpy as np\n",
    "X = []\n",
    "y = []\n",
    "for text in data:\n",
    "    X.append(text[0])\n",
    "    y.append(int(text[1]))\n",
    "X = np.array(X)\n",
    "y = np.array(y)"
   ]
  },
  {
   "cell_type": "code",
   "execution_count": 51,
   "metadata": {},
   "outputs": [
    {
     "name": "stdout",
     "output_type": "stream",
     "text": [
      "[ 84 607 379 ... 542 292 551]\n"
     ]
    }
   ],
   "source": [
    "print(y)"
   ]
  },
  {
   "cell_type": "code",
   "execution_count": 52,
   "metadata": {},
   "outputs": [],
   "source": [
    "count_vec = CountVectorizer(max_df=0.8, min_df=10)\n",
    "tf_idf = TfidfVectorizer(max_df=0.8, min_df=10)"
   ]
  },
  {
   "cell_type": "code",
   "execution_count": 53,
   "metadata": {},
   "outputs": [],
   "source": [
    "from sklearn.metrics import accuracy_score\n",
    "\n",
    "parameters = {\n",
    "    'n_neighbors': [i for i in range(1, 11)],\n",
    "    'metrics': ['euclidean', 'cosine'],\n",
    "    'weights': ['uniform', 'distance'],\n",
    "    'normalizers': [(count_vec, 'CountVectorizer'), (tf_idf, 'TfidfVectorizer')]\n",
    "}"
   ]
  },
  {
   "cell_type": "code",
   "execution_count": 54,
   "metadata": {},
   "outputs": [
    {
     "name": "stdout",
     "output_type": "stream",
     "text": [
      "('TfidfVectorizer', 1, 'cosine', 'uniform') : 0.7905752602023877\n",
      "('TfidfVectorizer', 1, 'cosine', 'distance') : 0.7905752602023877\n",
      "('TfidfVectorizer', 2, 'cosine', 'distance') : 0.788713062809464\n",
      "('TfidfVectorizer', 3, 'cosine', 'distance') : 0.7800271390007651\n",
      "('TfidfVectorizer', 4, 'cosine', 'distance') : 0.7769249202430961\n",
      "('TfidfVectorizer', 5, 'cosine', 'distance') : 0.7679297850533398\n",
      "('TfidfVectorizer', 6, 'cosine', 'distance') : 0.7592435725318666\n",
      "('CountVectorizer', 1, 'cosine', 'uniform') : 0.7570692766301446\n",
      "('CountVectorizer', 1, 'cosine', 'distance') : 0.7570692766301446\n",
      "('CountVectorizer', 2, 'cosine', 'distance') : 0.7552070792372209\n",
      "('TfidfVectorizer', 7, 'cosine', 'distance') : 0.7499363388333117\n",
      "('CountVectorizer', 3, 'cosine', 'distance') : 0.7468309442351276\n",
      "('CountVectorizer', 4, 'cosine', 'distance') : 0.7449696129805262\n",
      "('TfidfVectorizer', 8, 'cosine', 'distance') : 0.7424895702510358\n",
      "('TfidfVectorizer', 2, 'cosine', 'uniform') : 0.7421815137210745\n",
      "('CountVectorizer', 5, 'cosine', 'distance') : 0.7365931892656591\n",
      "('TfidfVectorizer', 9, 'cosine', 'distance') : 0.7350422242432116\n",
      "('TfidfVectorizer', 3, 'cosine', 'uniform') : 0.7316299279661629\n",
      "('CountVectorizer', 6, 'cosine', 'distance') : 0.7310071745124364\n",
      "('TfidfVectorizer', 4, 'cosine', 'uniform') : 0.7275966105120322\n",
      "('TfidfVectorizer', 10, 'cosine', 'distance') : 0.7254237581741805\n",
      "('CountVectorizer', 7, 'cosine', 'distance') : 0.721699074675559\n",
      "('TfidfVectorizer', 5, 'cosine', 'uniform') : 0.7207699969685158\n",
      "('TfidfVectorizer', 6, 'cosine', 'uniform') : 0.7154978130007361\n",
      "('CountVectorizer', 8, 'cosine', 'distance') : 0.7136318623417494\n",
      "('TfidfVectorizer', 7, 'cosine', 'uniform') : 0.7108446292206199\n",
      "('CountVectorizer', 2, 'cosine', 'uniform') : 0.7071208118603208\n",
      "('CountVectorizer', 9, 'cosine', 'distance') : 0.7064971922682718\n",
      "('TfidfVectorizer', 8, 'cosine', 'uniform') : 0.7043301141859022\n",
      "('CountVectorizer', 3, 'cosine', 'uniform') : 0.6965674938287645\n",
      "('CountVectorizer', 10, 'cosine', 'distance') : 0.6962579937349328\n",
      "('TfidfVectorizer', 9, 'cosine', 'uniform') : 0.6950220143490249\n",
      "('CountVectorizer', 4, 'cosine', 'uniform') : 0.6925327328107631\n",
      "('TfidfVectorizer', 10, 'cosine', 'uniform') : 0.6863337808381331\n",
      "('CountVectorizer', 5, 'cosine', 'uniform') : 0.6847761754218814\n",
      "('CountVectorizer', 6, 'cosine', 'uniform') : 0.6785702943426731\n",
      "('CountVectorizer', 7, 'cosine', 'uniform') : 0.6714344694180993\n",
      "('CountVectorizer', 8, 'cosine', 'uniform') : 0.6683334055115268\n",
      "('CountVectorizer', 9, 'cosine', 'uniform') : 0.6621283905706408\n",
      "('CountVectorizer', 10, 'cosine', 'uniform') : 0.6565435306685145\n",
      "('CountVectorizer', 1, 'euclidean', 'uniform') : 0.5892148456108441\n",
      "('CountVectorizer', 1, 'euclidean', 'distance') : 0.5892148456108441\n",
      "('CountVectorizer', 2, 'euclidean', 'distance') : 0.5876624370245261\n",
      "('CountVectorizer', 4, 'euclidean', 'distance') : 0.582078443260722\n",
      "('CountVectorizer', 5, 'euclidean', 'distance') : 0.5724591110533686\n",
      "('CountVectorizer', 6, 'euclidean', 'distance') : 0.5609778701658655\n",
      "('CountVectorizer', 7, 'euclidean', 'distance') : 0.555082355318811\n",
      "('CountVectorizer', 3, 'euclidean', 'distance') : 0.5501277554025378\n",
      "('CountVectorizer', 8, 'euclidean', 'distance') : 0.5467053541783956\n",
      "('CountVectorizer', 9, 'euclidean', 'distance') : 0.5408089731930189\n",
      "('CountVectorizer', 10, 'euclidean', 'distance') : 0.5324325494781517\n",
      "('CountVectorizer', 2, 'euclidean', 'uniform') : 0.5101020599656431\n",
      "('CountVectorizer', 4, 'euclidean', 'uniform') : 0.4958298326909474\n",
      "('CountVectorizer', 5, 'euclidean', 'uniform') : 0.4908631068381621\n",
      "('CountVectorizer', 6, 'euclidean', 'uniform') : 0.4858969584109249\n",
      "('CountVectorizer', 3, 'euclidean', 'uniform') : 0.4852785356488098\n",
      "('CountVectorizer', 7, 'euclidean', 'uniform') : 0.47782945736434107\n",
      "('CountVectorizer', 8, 'euclidean', 'uniform') : 0.4765877037229512\n",
      "('CountVectorizer', 9, 'euclidean', 'uniform') : 0.4734860623908305\n",
      "('TfidfVectorizer', 1, 'euclidean', 'uniform') : 0.4694668918626305\n",
      "('TfidfVectorizer', 1, 'euclidean', 'distance') : 0.4694668918626305\n",
      "('TfidfVectorizer', 2, 'euclidean', 'distance') : 0.466983962005399\n",
      "('CountVectorizer', 10, 'euclidean', 'uniform') : 0.46635110360457893\n",
      "('TfidfVectorizer', 3, 'euclidean', 'distance') : 0.3943923317887201\n",
      "('TfidfVectorizer', 7, 'euclidean', 'distance') : 0.3934618105178063\n",
      "('TfidfVectorizer', 4, 'euclidean', 'distance') : 0.39253100053411866\n",
      "('TfidfVectorizer', 6, 'euclidean', 'distance') : 0.3925307118213445\n",
      "('TfidfVectorizer', 9, 'euclidean', 'distance') : 0.39222323271693155\n",
      "('TfidfVectorizer', 5, 'euclidean', 'distance') : 0.3919102680698108\n",
      "('TfidfVectorizer', 8, 'euclidean', 'distance') : 0.39190997935703664\n",
      "('TfidfVectorizer', 10, 'euclidean', 'distance') : 0.386327429157103\n",
      "('TfidfVectorizer', 2, 'euclidean', 'uniform') : 0.33170268358523525\n",
      "('TfidfVectorizer', 9, 'euclidean', 'uniform') : 0.3003808121490335\n",
      "('TfidfVectorizer', 8, 'euclidean', 'uniform') : 0.29541293144515174\n",
      "('TfidfVectorizer', 10, 'euclidean', 'uniform') : 0.2944861634403014\n",
      "('TfidfVectorizer', 3, 'euclidean', 'uniform') : 0.29415703087783124\n",
      "('TfidfVectorizer', 7, 'euclidean', 'uniform') : 0.291997748040362\n",
      "('TfidfVectorizer', 6, 'euclidean', 'uniform') : 0.2854797684523552\n",
      "('TfidfVectorizer', 5, 'euclidean', 'uniform') : 0.27865200005774254\n",
      "('TfidfVectorizer', 4, 'euclidean', 'uniform') : 0.27430254211597593\n"
     ]
    }
   ],
   "source": [
    "from sklearn.neighbors import KNeighborsClassifier\n",
    "from cross_val import knn_cv_score, kfold_split\n",
    "answer = knn_cv_score(X,y,parameters,accuracy_score,kfold_split(len(X),3),KNeighborsClassifier)\n",
    "sorted_answer = {}\n",
    "sorted_keys = sorted(answer, key=answer.get,reverse=True)\n",
    "for w in sorted_keys:\n",
    "    sorted_answer[w] = answer[w]\n",
    "for key,value in sorted_answer.items(): \n",
    "    print(key, ':', value)"
   ]
  },
  {
   "cell_type": "code",
   "execution_count": 56,
   "metadata": {},
   "outputs": [],
   "source": [
    "tf_idf = TfidfVectorizer(max_df=0.8, min_df=10)\n",
    "tf_idf.fit(X)\n",
    "test = tf_idf.transform(X)"
   ]
  },
  {
   "cell_type": "code",
   "execution_count": 58,
   "metadata": {},
   "outputs": [
    {
     "data": {
      "text/html": [
       "<style>#sk-container-id-1 {color: black;background-color: white;}#sk-container-id-1 pre{padding: 0;}#sk-container-id-1 div.sk-toggleable {background-color: white;}#sk-container-id-1 label.sk-toggleable__label {cursor: pointer;display: block;width: 100%;margin-bottom: 0;padding: 0.3em;box-sizing: border-box;text-align: center;}#sk-container-id-1 label.sk-toggleable__label-arrow:before {content: \"▸\";float: left;margin-right: 0.25em;color: #696969;}#sk-container-id-1 label.sk-toggleable__label-arrow:hover:before {color: black;}#sk-container-id-1 div.sk-estimator:hover label.sk-toggleable__label-arrow:before {color: black;}#sk-container-id-1 div.sk-toggleable__content {max-height: 0;max-width: 0;overflow: hidden;text-align: left;background-color: #f0f8ff;}#sk-container-id-1 div.sk-toggleable__content pre {margin: 0.2em;color: black;border-radius: 0.25em;background-color: #f0f8ff;}#sk-container-id-1 input.sk-toggleable__control:checked~div.sk-toggleable__content {max-height: 200px;max-width: 100%;overflow: auto;}#sk-container-id-1 input.sk-toggleable__control:checked~label.sk-toggleable__label-arrow:before {content: \"▾\";}#sk-container-id-1 div.sk-estimator input.sk-toggleable__control:checked~label.sk-toggleable__label {background-color: #d4ebff;}#sk-container-id-1 div.sk-label input.sk-toggleable__control:checked~label.sk-toggleable__label {background-color: #d4ebff;}#sk-container-id-1 input.sk-hidden--visually {border: 0;clip: rect(1px 1px 1px 1px);clip: rect(1px, 1px, 1px, 1px);height: 1px;margin: -1px;overflow: hidden;padding: 0;position: absolute;width: 1px;}#sk-container-id-1 div.sk-estimator {font-family: monospace;background-color: #f0f8ff;border: 1px dotted black;border-radius: 0.25em;box-sizing: border-box;margin-bottom: 0.5em;}#sk-container-id-1 div.sk-estimator:hover {background-color: #d4ebff;}#sk-container-id-1 div.sk-parallel-item::after {content: \"\";width: 100%;border-bottom: 1px solid gray;flex-grow: 1;}#sk-container-id-1 div.sk-label:hover label.sk-toggleable__label {background-color: #d4ebff;}#sk-container-id-1 div.sk-serial::before {content: \"\";position: absolute;border-left: 1px solid gray;box-sizing: border-box;top: 0;bottom: 0;left: 50%;z-index: 0;}#sk-container-id-1 div.sk-serial {display: flex;flex-direction: column;align-items: center;background-color: white;padding-right: 0.2em;padding-left: 0.2em;position: relative;}#sk-container-id-1 div.sk-item {position: relative;z-index: 1;}#sk-container-id-1 div.sk-parallel {display: flex;align-items: stretch;justify-content: center;background-color: white;position: relative;}#sk-container-id-1 div.sk-item::before, #sk-container-id-1 div.sk-parallel-item::before {content: \"\";position: absolute;border-left: 1px solid gray;box-sizing: border-box;top: 0;bottom: 0;left: 50%;z-index: -1;}#sk-container-id-1 div.sk-parallel-item {display: flex;flex-direction: column;z-index: 1;position: relative;background-color: white;}#sk-container-id-1 div.sk-parallel-item:first-child::after {align-self: flex-end;width: 50%;}#sk-container-id-1 div.sk-parallel-item:last-child::after {align-self: flex-start;width: 50%;}#sk-container-id-1 div.sk-parallel-item:only-child::after {width: 0;}#sk-container-id-1 div.sk-dashed-wrapped {border: 1px dashed gray;margin: 0 0.4em 0.5em 0.4em;box-sizing: border-box;padding-bottom: 0.4em;background-color: white;}#sk-container-id-1 div.sk-label label {font-family: monospace;font-weight: bold;display: inline-block;line-height: 1.2em;}#sk-container-id-1 div.sk-label-container {text-align: center;}#sk-container-id-1 div.sk-container {/* jupyter's `normalize.less` sets `[hidden] { display: none; }` but bootstrap.min.css set `[hidden] { display: none !important; }` so we also need the `!important` here to be able to override the default hidden behavior on the sphinx rendered scikit-learn.org. See: https://github.com/scikit-learn/scikit-learn/issues/21755 */display: inline-block !important;position: relative;}#sk-container-id-1 div.sk-text-repr-fallback {display: none;}</style><div id=\"sk-container-id-1\" class=\"sk-top-container\"><div class=\"sk-text-repr-fallback\"><pre>KNeighborsClassifier(metric=&#x27;cosine&#x27;, n_neighbors=1)</pre><b>In a Jupyter environment, please rerun this cell to show the HTML representation or trust the notebook. <br />On GitHub, the HTML representation is unable to render, please try loading this page with nbviewer.org.</b></div><div class=\"sk-container\" hidden><div class=\"sk-item\"><div class=\"sk-estimator sk-toggleable\"><input class=\"sk-toggleable__control sk-hidden--visually\" id=\"sk-estimator-id-1\" type=\"checkbox\" checked><label for=\"sk-estimator-id-1\" class=\"sk-toggleable__label sk-toggleable__label-arrow\">KNeighborsClassifier</label><div class=\"sk-toggleable__content\"><pre>KNeighborsClassifier(metric=&#x27;cosine&#x27;, n_neighbors=1)</pre></div></div></div></div></div>"
      ],
      "text/plain": [
       "KNeighborsClassifier(metric='cosine', n_neighbors=1)"
      ]
     },
     "execution_count": 58,
     "metadata": {},
     "output_type": "execute_result"
    }
   ],
   "source": [
    "knn = KNeighborsClassifier(metric='cosine', n_neighbors=1, weights='uniform')\n",
    "knn.fit(test, y)"
   ]
  },
  {
   "cell_type": "code",
   "execution_count": 59,
   "metadata": {},
   "outputs": [],
   "source": [
    "import pickle\n",
    "with open('knn.pkl', 'wb') as f:\n",
    "    pickle.dump(knn, f)\n",
    "\n",
    "with open('tf_idf.pkl', 'wb') as f:\n",
    "    pickle.dump(tf_idf, f)\n",
    "\n",
    "with open('X.pkl', 'wb') as f:\n",
    "    pickle.dump(X, f)\n",
    "\n",
    "with open('y.pkl', 'wb') as f:\n",
    "    pickle.dump(y, f)"
   ]
  },
  {
   "cell_type": "code",
   "execution_count": null,
   "metadata": {},
   "outputs": [],
   "source": []
  }
 ],
 "metadata": {
  "kernelspec": {
   "display_name": "Python 3 (ipykernel)",
   "language": "python",
   "name": "python3"
  },
  "language_info": {
   "codemirror_mode": {
    "name": "ipython",
    "version": 3
   },
   "file_extension": ".py",
   "mimetype": "text/x-python",
   "name": "python",
   "nbconvert_exporter": "python",
   "pygments_lexer": "ipython3",
   "version": "3.9.13"
  }
 },
 "nbformat": 4,
 "nbformat_minor": 1
}
